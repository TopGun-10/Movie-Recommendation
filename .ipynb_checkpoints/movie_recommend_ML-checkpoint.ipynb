{
 "cells": [
  {
   "cell_type": "code",
   "execution_count": 1,
   "metadata": {
    "executionInfo": {
     "elapsed": 716,
     "status": "ok",
     "timestamp": 1660831499621,
     "user": {
      "displayName": "__TopGUN_10",
      "userId": "05220871729387018126"
     },
     "user_tz": -330
    },
    "id": "X2rTRM7b24CR"
   },
   "outputs": [],
   "source": [
    "# Importing libraries\n",
    "\n",
    "import pandas as pd\n",
    "import difflib \n",
    "from sklearn.feature_extraction.text import TfidfVectorizer\n",
    "from sklearn.metrics.pairwise import cosine_similarity"
   ]
  },
  {
   "cell_type": "markdown",
   "metadata": {
    "id": "nFpMkicCSbtC"
   },
   "source": [
    "# Importing data"
   ]
  },
  {
   "cell_type": "code",
   "execution_count": 2,
   "metadata": {
    "executionInfo": {
     "elapsed": 32,
     "status": "ok",
     "timestamp": 1660831500914,
     "user": {
      "displayName": "__TopGUN_10",
      "userId": "05220871729387018126"
     },
     "user_tz": -330
    },
    "id": "xuMWMzkz3vvm"
   },
   "outputs": [],
   "source": [
    "# loading the data from the csv file to a pandas dataframe\n",
    "movies_data = pd.read_csv('movies.csv')"
   ]
  },
  {
   "cell_type": "code",
   "execution_count": 3,
   "metadata": {
    "colab": {
     "base_uri": "https://localhost:8080/",
     "height": 837
    },
    "executionInfo": {
     "elapsed": 32,
     "status": "ok",
     "timestamp": 1660831500915,
     "user": {
      "displayName": "__TopGUN_10",
      "userId": "05220871729387018126"
     },
     "user_tz": -330
    },
    "id": "AxDKvyYo5Cxw",
    "outputId": "56de5c28-fd1a-4a27-a2f0-6f1ed8da5e76"
   },
   "outputs": [
    {
     "data": {
      "text/html": [
       "<div>\n",
       "<style scoped>\n",
       "    .dataframe tbody tr th:only-of-type {\n",
       "        vertical-align: middle;\n",
       "    }\n",
       "\n",
       "    .dataframe tbody tr th {\n",
       "        vertical-align: top;\n",
       "    }\n",
       "\n",
       "    .dataframe thead th {\n",
       "        text-align: right;\n",
       "    }\n",
       "</style>\n",
       "<table border=\"1\" class=\"dataframe\">\n",
       "  <thead>\n",
       "    <tr style=\"text-align: right;\">\n",
       "      <th></th>\n",
       "      <th>index</th>\n",
       "      <th>budget</th>\n",
       "      <th>genres</th>\n",
       "      <th>homepage</th>\n",
       "      <th>id</th>\n",
       "      <th>keywords</th>\n",
       "      <th>original_language</th>\n",
       "      <th>original_title</th>\n",
       "      <th>overview</th>\n",
       "      <th>popularity</th>\n",
       "      <th>...</th>\n",
       "      <th>runtime</th>\n",
       "      <th>spoken_languages</th>\n",
       "      <th>status</th>\n",
       "      <th>tagline</th>\n",
       "      <th>title</th>\n",
       "      <th>vote_average</th>\n",
       "      <th>vote_count</th>\n",
       "      <th>cast</th>\n",
       "      <th>crew</th>\n",
       "      <th>director</th>\n",
       "    </tr>\n",
       "  </thead>\n",
       "  <tbody>\n",
       "    <tr>\n",
       "      <th>0</th>\n",
       "      <td>0</td>\n",
       "      <td>237000000</td>\n",
       "      <td>Action Adventure Fantasy Science Fiction</td>\n",
       "      <td>http://www.avatarmovie.com/</td>\n",
       "      <td>19995</td>\n",
       "      <td>culture clash future space war space colony so...</td>\n",
       "      <td>en</td>\n",
       "      <td>Avatar</td>\n",
       "      <td>In the 22nd century, a paraplegic Marine is di...</td>\n",
       "      <td>150.437577</td>\n",
       "      <td>...</td>\n",
       "      <td>162.0</td>\n",
       "      <td>[{\"iso_639_1\": \"en\", \"name\": \"English\"}, {\"iso...</td>\n",
       "      <td>Released</td>\n",
       "      <td>Enter the World of Pandora.</td>\n",
       "      <td>Avatar</td>\n",
       "      <td>7.2</td>\n",
       "      <td>11800</td>\n",
       "      <td>Sam Worthington Zoe Saldana Sigourney Weaver S...</td>\n",
       "      <td>[{'name': 'Stephen E. Rivkin', 'gender': 0, 'd...</td>\n",
       "      <td>James Cameron</td>\n",
       "    </tr>\n",
       "    <tr>\n",
       "      <th>1</th>\n",
       "      <td>1</td>\n",
       "      <td>300000000</td>\n",
       "      <td>Adventure Fantasy Action</td>\n",
       "      <td>http://disney.go.com/disneypictures/pirates/</td>\n",
       "      <td>285</td>\n",
       "      <td>ocean drug abuse exotic island east india trad...</td>\n",
       "      <td>en</td>\n",
       "      <td>Pirates of the Caribbean: At World's End</td>\n",
       "      <td>Captain Barbossa, long believed to be dead, ha...</td>\n",
       "      <td>139.082615</td>\n",
       "      <td>...</td>\n",
       "      <td>169.0</td>\n",
       "      <td>[{\"iso_639_1\": \"en\", \"name\": \"English\"}]</td>\n",
       "      <td>Released</td>\n",
       "      <td>At the end of the world, the adventure begins.</td>\n",
       "      <td>Pirates of the Caribbean: At World's End</td>\n",
       "      <td>6.9</td>\n",
       "      <td>4500</td>\n",
       "      <td>Johnny Depp Orlando Bloom Keira Knightley Stel...</td>\n",
       "      <td>[{'name': 'Dariusz Wolski', 'gender': 2, 'depa...</td>\n",
       "      <td>Gore Verbinski</td>\n",
       "    </tr>\n",
       "    <tr>\n",
       "      <th>2</th>\n",
       "      <td>2</td>\n",
       "      <td>245000000</td>\n",
       "      <td>Action Adventure Crime</td>\n",
       "      <td>http://www.sonypictures.com/movies/spectre/</td>\n",
       "      <td>206647</td>\n",
       "      <td>spy based on novel secret agent sequel mi6</td>\n",
       "      <td>en</td>\n",
       "      <td>Spectre</td>\n",
       "      <td>A cryptic message from Bond’s past sends him o...</td>\n",
       "      <td>107.376788</td>\n",
       "      <td>...</td>\n",
       "      <td>148.0</td>\n",
       "      <td>[{\"iso_639_1\": \"fr\", \"name\": \"Fran\\u00e7ais\"},...</td>\n",
       "      <td>Released</td>\n",
       "      <td>A Plan No One Escapes</td>\n",
       "      <td>Spectre</td>\n",
       "      <td>6.3</td>\n",
       "      <td>4466</td>\n",
       "      <td>Daniel Craig Christoph Waltz L\\u00e9a Seydoux ...</td>\n",
       "      <td>[{'name': 'Thomas Newman', 'gender': 2, 'depar...</td>\n",
       "      <td>Sam Mendes</td>\n",
       "    </tr>\n",
       "    <tr>\n",
       "      <th>3</th>\n",
       "      <td>3</td>\n",
       "      <td>250000000</td>\n",
       "      <td>Action Crime Drama Thriller</td>\n",
       "      <td>http://www.thedarkknightrises.com/</td>\n",
       "      <td>49026</td>\n",
       "      <td>dc comics crime fighter terrorist secret ident...</td>\n",
       "      <td>en</td>\n",
       "      <td>The Dark Knight Rises</td>\n",
       "      <td>Following the death of District Attorney Harve...</td>\n",
       "      <td>112.312950</td>\n",
       "      <td>...</td>\n",
       "      <td>165.0</td>\n",
       "      <td>[{\"iso_639_1\": \"en\", \"name\": \"English\"}]</td>\n",
       "      <td>Released</td>\n",
       "      <td>The Legend Ends</td>\n",
       "      <td>The Dark Knight Rises</td>\n",
       "      <td>7.6</td>\n",
       "      <td>9106</td>\n",
       "      <td>Christian Bale Michael Caine Gary Oldman Anne ...</td>\n",
       "      <td>[{'name': 'Hans Zimmer', 'gender': 2, 'departm...</td>\n",
       "      <td>Christopher Nolan</td>\n",
       "    </tr>\n",
       "    <tr>\n",
       "      <th>4</th>\n",
       "      <td>4</td>\n",
       "      <td>260000000</td>\n",
       "      <td>Action Adventure Science Fiction</td>\n",
       "      <td>http://movies.disney.com/john-carter</td>\n",
       "      <td>49529</td>\n",
       "      <td>based on novel mars medallion space travel pri...</td>\n",
       "      <td>en</td>\n",
       "      <td>John Carter</td>\n",
       "      <td>John Carter is a war-weary, former military ca...</td>\n",
       "      <td>43.926995</td>\n",
       "      <td>...</td>\n",
       "      <td>132.0</td>\n",
       "      <td>[{\"iso_639_1\": \"en\", \"name\": \"English\"}]</td>\n",
       "      <td>Released</td>\n",
       "      <td>Lost in our world, found in another.</td>\n",
       "      <td>John Carter</td>\n",
       "      <td>6.1</td>\n",
       "      <td>2124</td>\n",
       "      <td>Taylor Kitsch Lynn Collins Samantha Morton Wil...</td>\n",
       "      <td>[{'name': 'Andrew Stanton', 'gender': 2, 'depa...</td>\n",
       "      <td>Andrew Stanton</td>\n",
       "    </tr>\n",
       "  </tbody>\n",
       "</table>\n",
       "<p>5 rows × 24 columns</p>\n",
       "</div>"
      ],
      "text/plain": [
       "   index     budget                                    genres  \\\n",
       "0      0  237000000  Action Adventure Fantasy Science Fiction   \n",
       "1      1  300000000                  Adventure Fantasy Action   \n",
       "2      2  245000000                    Action Adventure Crime   \n",
       "3      3  250000000               Action Crime Drama Thriller   \n",
       "4      4  260000000          Action Adventure Science Fiction   \n",
       "\n",
       "                                       homepage      id  \\\n",
       "0                   http://www.avatarmovie.com/   19995   \n",
       "1  http://disney.go.com/disneypictures/pirates/     285   \n",
       "2   http://www.sonypictures.com/movies/spectre/  206647   \n",
       "3            http://www.thedarkknightrises.com/   49026   \n",
       "4          http://movies.disney.com/john-carter   49529   \n",
       "\n",
       "                                            keywords original_language  \\\n",
       "0  culture clash future space war space colony so...                en   \n",
       "1  ocean drug abuse exotic island east india trad...                en   \n",
       "2         spy based on novel secret agent sequel mi6                en   \n",
       "3  dc comics crime fighter terrorist secret ident...                en   \n",
       "4  based on novel mars medallion space travel pri...                en   \n",
       "\n",
       "                             original_title  \\\n",
       "0                                    Avatar   \n",
       "1  Pirates of the Caribbean: At World's End   \n",
       "2                                   Spectre   \n",
       "3                     The Dark Knight Rises   \n",
       "4                               John Carter   \n",
       "\n",
       "                                            overview  popularity  ... runtime  \\\n",
       "0  In the 22nd century, a paraplegic Marine is di...  150.437577  ...   162.0   \n",
       "1  Captain Barbossa, long believed to be dead, ha...  139.082615  ...   169.0   \n",
       "2  A cryptic message from Bond’s past sends him o...  107.376788  ...   148.0   \n",
       "3  Following the death of District Attorney Harve...  112.312950  ...   165.0   \n",
       "4  John Carter is a war-weary, former military ca...   43.926995  ...   132.0   \n",
       "\n",
       "                                    spoken_languages    status  \\\n",
       "0  [{\"iso_639_1\": \"en\", \"name\": \"English\"}, {\"iso...  Released   \n",
       "1           [{\"iso_639_1\": \"en\", \"name\": \"English\"}]  Released   \n",
       "2  [{\"iso_639_1\": \"fr\", \"name\": \"Fran\\u00e7ais\"},...  Released   \n",
       "3           [{\"iso_639_1\": \"en\", \"name\": \"English\"}]  Released   \n",
       "4           [{\"iso_639_1\": \"en\", \"name\": \"English\"}]  Released   \n",
       "\n",
       "                                          tagline  \\\n",
       "0                     Enter the World of Pandora.   \n",
       "1  At the end of the world, the adventure begins.   \n",
       "2                           A Plan No One Escapes   \n",
       "3                                 The Legend Ends   \n",
       "4            Lost in our world, found in another.   \n",
       "\n",
       "                                      title vote_average vote_count  \\\n",
       "0                                    Avatar          7.2      11800   \n",
       "1  Pirates of the Caribbean: At World's End          6.9       4500   \n",
       "2                                   Spectre          6.3       4466   \n",
       "3                     The Dark Knight Rises          7.6       9106   \n",
       "4                               John Carter          6.1       2124   \n",
       "\n",
       "                                                cast  \\\n",
       "0  Sam Worthington Zoe Saldana Sigourney Weaver S...   \n",
       "1  Johnny Depp Orlando Bloom Keira Knightley Stel...   \n",
       "2  Daniel Craig Christoph Waltz L\\u00e9a Seydoux ...   \n",
       "3  Christian Bale Michael Caine Gary Oldman Anne ...   \n",
       "4  Taylor Kitsch Lynn Collins Samantha Morton Wil...   \n",
       "\n",
       "                                                crew           director  \n",
       "0  [{'name': 'Stephen E. Rivkin', 'gender': 0, 'd...      James Cameron  \n",
       "1  [{'name': 'Dariusz Wolski', 'gender': 2, 'depa...     Gore Verbinski  \n",
       "2  [{'name': 'Thomas Newman', 'gender': 2, 'depar...         Sam Mendes  \n",
       "3  [{'name': 'Hans Zimmer', 'gender': 2, 'departm...  Christopher Nolan  \n",
       "4  [{'name': 'Andrew Stanton', 'gender': 2, 'depa...     Andrew Stanton  \n",
       "\n",
       "[5 rows x 24 columns]"
      ]
     },
     "execution_count": 3,
     "metadata": {},
     "output_type": "execute_result"
    }
   ],
   "source": [
    "# data \n",
    "movies_data.head()"
   ]
  },
  {
   "cell_type": "markdown",
   "metadata": {
    "id": "fWvuHCrZSOLy"
   },
   "source": [
    "# Cleaning Data"
   ]
  },
  {
   "cell_type": "code",
   "execution_count": 4,
   "metadata": {
    "colab": {
     "base_uri": "https://localhost:8080/"
    },
    "executionInfo": {
     "elapsed": 30,
     "status": "ok",
     "timestamp": 1660831500918,
     "user": {
      "displayName": "__TopGUN_10",
      "userId": "05220871729387018126"
     },
     "user_tz": -330
    },
    "id": "kQP7MTKL5KQZ",
    "outputId": "9345e8d7-1219-4342-9e11-717e9e555b80"
   },
   "outputs": [
    {
     "data": {
      "text/plain": [
       "(4803, 24)"
      ]
     },
     "execution_count": 4,
     "metadata": {},
     "output_type": "execute_result"
    }
   ],
   "source": [
    "# shape of data \n",
    "movies_data.shape\n"
   ]
  },
  {
   "cell_type": "code",
   "execution_count": 5,
   "metadata": {
    "executionInfo": {
     "elapsed": 25,
     "status": "ok",
     "timestamp": 1660831500920,
     "user": {
      "displayName": "__TopGUN_10",
      "userId": "05220871729387018126"
     },
     "user_tz": -330
    },
    "id": "3LTCRt5J5UbO"
   },
   "outputs": [],
   "source": [
    "# selecting features for recommedning a movie\n",
    "\n",
    "selected_features = ['genres' , 'keywords' , 'cast', 'director' , 'tagline']\n"
   ]
  },
  {
   "cell_type": "code",
   "execution_count": 6,
   "metadata": {
    "colab": {
     "base_uri": "https://localhost:8080/"
    },
    "executionInfo": {
     "elapsed": 24,
     "status": "ok",
     "timestamp": 1660831500920,
     "user": {
      "displayName": "__TopGUN_10",
      "userId": "05220871729387018126"
     },
     "user_tz": -330
    },
    "id": "9LeKDcn-78vT",
    "outputId": "01edf1fe-5ceb-4d2f-8ac5-f3d98f09bbaa"
   },
   "outputs": [
    {
     "data": {
      "text/plain": [
       "844"
      ]
     },
     "execution_count": 6,
     "metadata": {},
     "output_type": "execute_result"
    }
   ],
   "source": [
    "# getting null values in selected features\n",
    "movies_data['tagline'].isnull().sum()"
   ]
  },
  {
   "cell_type": "code",
   "execution_count": 7,
   "metadata": {
    "executionInfo": {
     "elapsed": 21,
     "status": "ok",
     "timestamp": 1660831500921,
     "user": {
      "displayName": "__TopGUN_10",
      "userId": "05220871729387018126"
     },
     "user_tz": -330
    },
    "id": "XPP4Tjwl6KaP"
   },
   "outputs": [],
   "source": [
    "# getting rid of NULL values of selected_values\n",
    "\n",
    "for feature in selected_features:\n",
    "  movies_data[feature] = movies_data[feature].fillna('')"
   ]
  },
  {
   "cell_type": "code",
   "execution_count": 8,
   "metadata": {
    "executionInfo": {
     "elapsed": 20,
     "status": "ok",
     "timestamp": 1660831500922,
     "user": {
      "displayName": "__TopGUN_10",
      "userId": "05220871729387018126"
     },
     "user_tz": -330
    },
    "id": "4b9KTwER6edf"
   },
   "outputs": [],
   "source": [
    "combined_features = movies_data['genres']+' '+movies_data['keywords']+' '+movies_data['cast']+' '+movies_data['tagline']+' '+movies_data['tagline']"
   ]
  },
  {
   "cell_type": "markdown",
   "metadata": {
    "id": "hG5Pzx36RrNW"
   },
   "source": [
    "# **Initializing** a vectorizer of sklearn\n",
    "# which will modify selected features of movies into vectors"
   ]
  },
  {
   "cell_type": "code",
   "execution_count": 13,
   "metadata": {
    "executionInfo": {
     "elapsed": 20,
     "status": "ok",
     "timestamp": 1660831500922,
     "user": {
      "displayName": "__TopGUN_10",
      "userId": "05220871729387018126"
     },
     "user_tz": -330
    },
    "id": "UpOngQ5078tK"
   },
   "outputs": [],
   "source": [
    "vectorizer = TfidfVectorizer()"
   ]
  },
  {
   "cell_type": "code",
   "execution_count": 12,
   "metadata": {
    "colab": {
     "base_uri": "https://localhost:8080/"
    },
    "executionInfo": {
     "elapsed": 478,
     "status": "ok",
     "timestamp": 1660831501381,
     "user": {
      "displayName": "__TopGUN_10",
      "userId": "05220871729387018126"
     },
     "user_tz": -330
    },
    "id": "3aqVALXVJuJZ",
    "outputId": "66d38407-c9c9-4549-8ee6-7f6b140b7300"
   },
   "outputs": [
    {
     "name": "stdout",
     "output_type": "stream",
     "text": [
      "  (0, 10522)\t0.44972314734720886\n",
      "  (0, 10234)\t0.1495587160336763\n",
      "  (0, 15576)\t0.21189787775803312\n",
      "  (0, 13980)\t0.1172733174384691\n",
      "  (0, 4570)\t0.3970768764430815\n",
      "  (0, 11944)\t0.1783089872819668\n",
      "  (0, 9358)\t0.13270148561877212\n",
      "  (0, 8035)\t0.19853843822154074\n",
      "  (0, 13376)\t0.1374219747598331\n",
      "  (0, 15268)\t0.16397547757418793\n",
      "  (0, 12876)\t0.17019648420312153\n",
      "  (0, 12211)\t0.17993600862834694\n",
      "  (0, 15836)\t0.16690612808735075\n",
      "  (0, 15585)\t0.19537742034608677\n",
      "  (0, 12235)\t0.13213045060969628\n",
      "  (0, 13069)\t0.176774990752893\n",
      "  (0, 2965)\t0.20625914408041063\n",
      "  (0, 15189)\t0.10370265533442444\n",
      "  (0, 13166)\t0.28065234244328985\n",
      "  (0, 5381)\t0.13607981345014614\n",
      "  (0, 2817)\t0.18351967512724568\n",
      "  (0, 3392)\t0.176774990752893\n",
      "  (0, 5022)\t0.08564441758861323\n",
      "  (0, 12451)\t0.08564441758861323\n",
      "  (0, 4878)\t0.09179598096270028\n",
      "  :\t:\n",
      "  (4801, 15819)\t0.2412442783790907\n",
      "  (4801, 4465)\t0.20657836386459788\n",
      "  (4801, 385)\t0.15358353206957218\n",
      "  (4801, 6373)\t0.2412442783790907\n",
      "  (4801, 10669)\t0.18137104663934495\n",
      "  (4801, 1533)\t0.1331723466878455\n",
      "  (4801, 10000)\t0.2257582945466569\n",
      "  (4801, 6873)\t0.1890428452971013\n",
      "  (4801, 3500)\t0.14462280778750589\n",
      "  (4802, 6430)\t0.34017404967776005\n",
      "  (4802, 4961)\t0.2741554591742038\n",
      "  (4802, 3373)\t0.31333102220617887\n",
      "  (4802, 5905)\t0.2648161443824893\n",
      "  (4802, 2225)\t0.2864879947345978\n",
      "  (4802, 4252)\t0.2976288577294761\n",
      "  (4802, 4030)\t0.18360162278882466\n",
      "  (4802, 11912)\t0.2030457873452196\n",
      "  (4802, 1220)\t0.23403144949002042\n",
      "  (4802, 4177)\t0.23403144949002042\n",
      "  (4802, 3168)\t0.2648161443824893\n",
      "  (4802, 5669)\t0.21551889040156505\n",
      "  (4802, 4603)\t0.20139761083802996\n",
      "  (4802, 1947)\t0.2071884220184393\n",
      "  (4802, 4167)\t0.20033654987226138\n",
      "  (4802, 10205)\t0.21326235103246977\n"
     ]
    },
    {
     "data": {
      "text/plain": [
       "(4803, 15858)"
      ]
     },
     "execution_count": 12,
     "metadata": {},
     "output_type": "execute_result"
    }
   ],
   "source": [
    "feature_vectors = vectorizer.fit_transform(combined_features)\n",
    "print(feature_vectors)\n",
    "feature_vectors.shape\n"
   ]
  },
  {
   "cell_type": "code",
   "execution_count": 15,
   "metadata": {
    "colab": {
     "base_uri": "https://localhost:8080/"
    },
    "executionInfo": {
     "elapsed": 18,
     "status": "ok",
     "timestamp": 1660831501384,
     "user": {
      "displayName": "__TopGUN_10",
      "userId": "05220871729387018126"
     },
     "user_tz": -330
    },
    "id": "Mra2aH3-Oysr",
    "outputId": "5bee021c-8f9e-4891-d3e5-1316b8bb4cdd"
   },
   "outputs": [
    {
     "name": "stdout",
     "output_type": "stream",
     "text": [
      "[[1.         0.13513729 0.01004342 ... 0.         0.         0.        ]\n",
      " [0.13513729 1.         0.03764647 ... 0.05227733 0.         0.        ]\n",
      " [0.01004342 0.03764647 1.         ... 0.         0.02002876 0.        ]\n",
      " ...\n",
      " [0.         0.05227733 0.         ... 1.         0.         0.0354845 ]\n",
      " [0.         0.         0.02002876 ... 0.         1.         0.        ]\n",
      " [0.         0.         0.         ... 0.0354845  0.         1.        ]]\n"
     ]
    }
   ],
   "source": [
    "# similarity b/w vectors form cosine similarity b/w a and b = cos(angle b/w a and b)  \n",
    "\n",
    "similarity = cosine_similarity(feature_vectors)\n",
    "print(similarity)"
   ]
  },
  {
   "cell_type": "code",
   "execution_count": 23,
   "metadata": {
    "colab": {
     "base_uri": "https://localhost:8080/"
    },
    "executionInfo": {
     "elapsed": 10763,
     "status": "ok",
     "timestamp": 1660831512133,
     "user": {
      "displayName": "__TopGUN_10",
      "userId": "05220871729387018126"
     },
     "user_tz": -330
    },
    "id": "AavzGBl5P764",
    "outputId": "4510d973-2508-4f75-a341-b7adaa114f08"
   },
   "outputs": [
    {
     "name": "stdout",
     "output_type": "stream",
     "text": [
      " Enter your favourite movie name : Avatar\n",
      "Movies suggested for you : \n",
      "\n",
      "1 . Avatar\n",
      "2 . The Cell\n",
      "3 . Alien\n",
      "4 . Star Trek Beyond\n",
      "5 . Mad Max Beyond Thunderdome\n",
      "6 . The Silence of the Lambs\n",
      "7 . Lara Croft Tomb Raider: The Cradle of Life\n",
      "8 . Guardians of the Galaxy\n",
      "9 . Aliens\n",
      "10 . Galaxy Quest\n",
      "11 . Cargo\n",
      "12 . Space Cowboys\n",
      "13 . Star Trek Into Darkness\n",
      "14 . A Perfect Getaway\n",
      "15 . Moonraker\n",
      "16 . Darkness\n",
      "17 . Trekkies\n",
      "18 . Gettysburg\n",
      "19 . Alien³\n",
      "20 . Clash of the Titans\n",
      "21 . Gravity\n",
      "22 . Def-Con 4\n",
      "23 . Star Trek\n",
      "24 . Pirates of the Caribbean: At World's End\n",
      "25 . The Right Stuff\n",
      "26 . Terminator Salvation\n",
      "27 . Space Dogs\n",
      "28 . Children of Men\n",
      "29 . The Helix... Loaded\n"
     ]
    }
   ],
   "source": [
    "# writing  a function which takes movie name from user as a input and recommends movies\n",
    "movie_name = input(' Enter your favourite movie name : ')\n",
    "\n",
    "list_of_all_titles = movies_data['title'].tolist()\n",
    "\n",
    "find_close_match = difflib.get_close_matches(movie_name, list_of_all_titles)  # 'difflib' dependancy used here for matching string from 'title' column which resembles to input string\n",
    "\n",
    "close_match = find_close_match[0]\n",
    "\n",
    "index_of_the_movie = movies_data[movies_data.title == close_match]['index'].values[0]\n",
    "\n",
    "similarity_score = list(enumerate(similarity[index_of_the_movie]))\n",
    "\n",
    "sorted_similar_movies = sorted(similarity_score, key = lambda x:x[1], reverse = True) \n",
    "\n",
    "print('Movies suggested for you : \\n')\n",
    "\n",
    "i = 1\n",
    "\n",
    "for movie in sorted_similar_movies:\n",
    "  index = movie[0]\n",
    "  title_from_index = movies_data[movies_data.index==index]['title'].values[0]\n",
    "  if (i<30):\n",
    "    print(i, '.',title_from_index)\n",
    "    i+=1"
   ]
  }
 ],
 "metadata": {
  "colab": {
   "authorship_tag": "ABX9TyMd+gdYVeNdKbKJygLbCnin",
   "collapsed_sections": [],
   "name": "movie_recommend_ML.ipynb",
   "provenance": []
  },
  "kernelspec": {
   "display_name": "Python 3",
   "language": "python",
   "name": "python3"
  },
  "language_info": {
   "codemirror_mode": {
    "name": "ipython",
    "version": 3
   },
   "file_extension": ".py",
   "mimetype": "text/x-python",
   "name": "python",
   "nbconvert_exporter": "python",
   "pygments_lexer": "ipython3",
   "version": "3.8.5"
  }
 },
 "nbformat": 4,
 "nbformat_minor": 1
}
